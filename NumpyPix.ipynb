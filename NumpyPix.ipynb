{
  "nbformat": 4,
  "nbformat_minor": 0,
  "metadata": {
    "colab": {
      "name": "NumpyPix",
      "provenance": [],
      "authorship_tag": "ABX9TyNpfTfzHX+0pzTAjdG71JiU",
      "include_colab_link": true
    },
    "kernelspec": {
      "name": "python3",
      "display_name": "Python 3"
    }
  },
  "cells": [
    {
      "cell_type": "markdown",
      "metadata": {
        "id": "view-in-github",
        "colab_type": "text"
      },
      "source": [
        "<a href=\"https://colab.research.google.com/github/MacLeanLuke/NumpyPix/blob/main/NumpyPix.ipynb\" target=\"_parent\"><img src=\"https://colab.research.google.com/assets/colab-badge.svg\" alt=\"Open In Colab\"/></a>"
      ]
    },
    {
      "cell_type": "code",
      "metadata": {
        "id": "bcUzl054iEXG"
      },
      "source": [
        "import numpy\n",
        "n=numpy.arange(27)"
      ],
      "execution_count": 1,
      "outputs": []
    },
    {
      "cell_type": "code",
      "metadata": {
        "id": "PFqT9FexiQMu",
        "outputId": "d4e19c7e-6a84-4842-c0e3-ad97d3bc1717",
        "colab": {
          "base_uri": "https://localhost:8080/"
        }
      },
      "source": [
        "n.reshape(3,3,3)"
      ],
      "execution_count": 4,
      "outputs": [
        {
          "output_type": "execute_result",
          "data": {
            "text/plain": [
              "array([[[ 0,  1,  2],\n",
              "        [ 3,  4,  5],\n",
              "        [ 6,  7,  8]],\n",
              "\n",
              "       [[ 9, 10, 11],\n",
              "        [12, 13, 14],\n",
              "        [15, 16, 17]],\n",
              "\n",
              "       [[18, 19, 20],\n",
              "        [21, 22, 23],\n",
              "        [24, 25, 26]]])"
            ]
          },
          "metadata": {
            "tags": []
          },
          "execution_count": 4
        }
      ]
    },
    {
      "cell_type": "code",
      "metadata": {
        "id": "Aw8UvbediRD1"
      },
      "source": [
        "import cv2"
      ],
      "execution_count": 5,
      "outputs": []
    },
    {
      "cell_type": "code",
      "metadata": {
        "id": "0ZdkwBLSi3Xm",
        "outputId": "d572cb44-34de-430e-deb4-6ea0ce3918e7",
        "colab": {
          "base_uri": "https://localhost:8080/"
        }
      },
      "source": [
        "im_g=cv2.imread(\"smallgray.png\",0)\n",
        "print(im_g)"
      ],
      "execution_count": 15,
      "outputs": [
        {
          "output_type": "stream",
          "text": [
            "[[187 158 104 121 143]\n",
            " [198 125 255 255 147]\n",
            " [209 134 255  97 182]]\n"
          ],
          "name": "stdout"
        }
      ]
    },
    {
      "cell_type": "code",
      "metadata": {
        "id": "SRJ-vEK3jO7k",
        "outputId": "05635ad3-59f3-479f-99e2-04c52f33758e",
        "colab": {
          "base_uri": "https://localhost:8080/"
        }
      },
      "source": [
        "cv2.imwrite(\"newsmallgray.png\",im_g)"
      ],
      "execution_count": 11,
      "outputs": [
        {
          "output_type": "execute_result",
          "data": {
            "text/plain": [
              "True"
            ]
          },
          "metadata": {
            "tags": []
          },
          "execution_count": 11
        }
      ]
    },
    {
      "cell_type": "code",
      "metadata": {
        "id": "g2b0F3_Uj6yF",
        "outputId": "7cbf45f4-5688-433f-bbfd-cca46444bed1",
        "colab": {
          "base_uri": "https://localhost:8080/"
        }
      },
      "source": [
        "im_g[:,2:4]"
      ],
      "execution_count": 19,
      "outputs": [
        {
          "output_type": "execute_result",
          "data": {
            "text/plain": [
              "array([[104, 121],\n",
              "       [255, 255],\n",
              "       [255,  97]], dtype=uint8)"
            ]
          },
          "metadata": {
            "tags": []
          },
          "execution_count": 19
        }
      ]
    },
    {
      "cell_type": "code",
      "metadata": {
        "id": "8ibIrQOAkC-i",
        "outputId": "e2332ba5-6ec8-46e4-c239-23dd58fddf8f",
        "colab": {
          "base_uri": "https://localhost:8080/"
        }
      },
      "source": [
        "im_g.shape"
      ],
      "execution_count": 20,
      "outputs": [
        {
          "output_type": "execute_result",
          "data": {
            "text/plain": [
              "(3, 5)"
            ]
          },
          "metadata": {
            "tags": []
          },
          "execution_count": 20
        }
      ]
    },
    {
      "cell_type": "code",
      "metadata": {
        "id": "w8PDlxBBkadd",
        "outputId": "8e286b5d-9dd9-49fc-b342-3249153035f0",
        "colab": {
          "base_uri": "https://localhost:8080/"
        }
      },
      "source": [
        "for i in im_g.T:\n",
        "  print(i)"
      ],
      "execution_count": 22,
      "outputs": [
        {
          "output_type": "stream",
          "text": [
            "[187 198 209]\n",
            "[158 125 134]\n",
            "[104 255 255]\n",
            "[121 255  97]\n",
            "[143 147 182]\n"
          ],
          "name": "stdout"
        }
      ]
    },
    {
      "cell_type": "code",
      "metadata": {
        "id": "Vuka4hKZkqa3",
        "outputId": "50f947a9-29ee-4ed2-f2cf-f41b40032da2",
        "colab": {
          "base_uri": "https://localhost:8080/"
        }
      },
      "source": [
        "for i in im_g.flat:\n",
        "  print(i)"
      ],
      "execution_count": 23,
      "outputs": [
        {
          "output_type": "stream",
          "text": [
            "187\n",
            "158\n",
            "104\n",
            "121\n",
            "143\n",
            "198\n",
            "125\n",
            "255\n",
            "255\n",
            "147\n",
            "209\n",
            "134\n",
            "255\n",
            "97\n",
            "182\n"
          ],
          "name": "stdout"
        }
      ]
    },
    {
      "cell_type": "code",
      "metadata": {
        "id": "q-lv5c4Akz8M",
        "outputId": "0fc28bd9-dbad-4e97-a855-094b5914ae02",
        "colab": {
          "base_uri": "https://localhost:8080/"
        }
      },
      "source": [
        "im_g"
      ],
      "execution_count": 24,
      "outputs": [
        {
          "output_type": "execute_result",
          "data": {
            "text/plain": [
              "array([[187, 158, 104, 121, 143],\n",
              "       [198, 125, 255, 255, 147],\n",
              "       [209, 134, 255,  97, 182]], dtype=uint8)"
            ]
          },
          "metadata": {
            "tags": []
          },
          "execution_count": 24
        }
      ]
    },
    {
      "cell_type": "code",
      "metadata": {
        "id": "45n8Wklwk4ez"
      },
      "source": [
        "ims=numpy.vstack((im_g,im_g,im_g))"
      ],
      "execution_count": 29,
      "outputs": []
    },
    {
      "cell_type": "code",
      "metadata": {
        "id": "Rkkdg37yk_fb",
        "outputId": "674cb4d2-c25e-4386-cdab-40b27bd325fb",
        "colab": {
          "base_uri": "https://localhost:8080/"
        }
      },
      "source": [
        "print(ims)"
      ],
      "execution_count": 30,
      "outputs": [
        {
          "output_type": "stream",
          "text": [
            "[[187 158 104 121 143]\n",
            " [198 125 255 255 147]\n",
            " [209 134 255  97 182]\n",
            " [187 158 104 121 143]\n",
            " [198 125 255 255 147]\n",
            " [209 134 255  97 182]\n",
            " [187 158 104 121 143]\n",
            " [198 125 255 255 147]\n",
            " [209 134 255  97 182]]\n"
          ],
          "name": "stdout"
        }
      ]
    },
    {
      "cell_type": "code",
      "metadata": {
        "id": "La1E049llGsI"
      },
      "source": [
        "lst=numpy.vsplit(ims,3)"
      ],
      "execution_count": 34,
      "outputs": []
    },
    {
      "cell_type": "code",
      "metadata": {
        "id": "Y-1ELGtilUaF",
        "outputId": "2a09241f-6fcf-425e-9129-0a422ad72dcc",
        "colab": {
          "base_uri": "https://localhost:8080/"
        }
      },
      "source": [
        "lst"
      ],
      "execution_count": 35,
      "outputs": [
        {
          "output_type": "execute_result",
          "data": {
            "text/plain": [
              "[array([[187, 158, 104, 121, 143],\n",
              "        [198, 125, 255, 255, 147],\n",
              "        [209, 134, 255,  97, 182]], dtype=uint8),\n",
              " array([[187, 158, 104, 121, 143],\n",
              "        [198, 125, 255, 255, 147],\n",
              "        [209, 134, 255,  97, 182]], dtype=uint8),\n",
              " array([[187, 158, 104, 121, 143],\n",
              "        [198, 125, 255, 255, 147],\n",
              "        [209, 134, 255,  97, 182]], dtype=uint8)]"
            ]
          },
          "metadata": {
            "tags": []
          },
          "execution_count": 35
        }
      ]
    },
    {
      "cell_type": "code",
      "metadata": {
        "id": "RdRrHgh0lbw3"
      },
      "source": [
        ""
      ],
      "execution_count": null,
      "outputs": []
    }
  ]
}